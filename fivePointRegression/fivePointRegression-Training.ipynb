{
 "cells": [
  {
   "cell_type": "markdown",
   "metadata": {},
   "source": [
    "# Training Regression on 5point CrowdFlower data"
   ]
  },
  {
   "cell_type": "code",
   "execution_count": 239,
   "metadata": {
    "collapsed": true
   },
   "outputs": [],
   "source": [
    "emoNames = ['confident','excited','happy', 'surprised']\n",
    "\n",
    "# emoNames = ['sadness', 'disgust', 'surprise', 'anger', 'fear', 'joy']"
   ]
  },
  {
   "cell_type": "code",
   "execution_count": 2,
   "metadata": {
    "collapsed": false
   },
   "outputs": [
    {
     "name": "stdout",
     "output_type": "stream",
     "text": [
      "imported regex as re\n"
     ]
    }
   ],
   "source": [
    "from nltk.tokenize import TweetTokenizer\n",
    "import nltk.tokenize.casual as casual\n",
    "from drevicko.twitter_regexes import cleanString, setupRegexes, tweetPreprocessor\n",
    "import preprocess_twitter\n",
    "\n",
    "def preprocess_tweet(text):    \n",
    "    text = casual.reduce_lengthening(text)\n",
    "    text = cleanString(setupRegexes('twitterProAna'),text)   \n",
    "    text = ' '.join([span for notentity,span in tweetPreprocessor(text, (\"urls\", \"users\", \"lists\")) if notentity])\n",
    "    text = text.replace('\\t','')\n",
    "    text = text.replace('< ','<').replace(' >','>')\n",
    "    text = text.replace('):', '<sadface>').replace('(:', '<smile>')\n",
    "    text = text.replace(\" 't\", \"t\")\n",
    "    return text\n",
    "\n",
    "def tokenise_tweet(text):\n",
    "    text = preprocess_twitter.tokenize(text)\n",
    "    text = preprocess_tweet(text)     \n",
    "    return ' '.join(text.split())\n",
    "\n",
    "tokenise_tweet.regexes = setupRegexes('twitterProAna')"
   ]
  },
  {
   "cell_type": "code",
   "execution_count": 204,
   "metadata": {
    "collapsed": false
   },
   "outputs": [],
   "source": [
    "from collections import defaultdict\n",
    "import numpy as np\n",
    "import pandas as pd\n",
    "import csv\n",
    "\n",
    "def _load_tweets(filename = \"tweet.txt\"):\n",
    "\n",
    "    tweets_text = []\n",
    "\n",
    "    for line in open(filename, 'rb'):\n",
    "\n",
    "        line = line.decode(\"utf-8\")\n",
    "#         tw_text = ' '.join(tokenise_tweet(line))\n",
    "        tw_text = tokenise_tweet(line.split())\n",
    "        tweets_text.append(tw_text)\n",
    "    \n",
    "    return(tweets_text)\n",
    "\n",
    "def _load_labels(filename = \"labels.txt\"):\n",
    "    \n",
    "    labels = []\n",
    "    for line in open(filename, 'rb'):\n",
    "        labels.append(line.decode('utf-8').replace('\\n','').split(','))\n",
    "    header, labels = labels[0], labels[1:]\n",
    "    return(labels)\n",
    "\n",
    "def _read_csv(filename = \"data.csv\", header=True):\n",
    "    \n",
    "    df = pd.read_csv(filepath_or_buffer=filename)    \n",
    "    \n",
    "    tweets_list = []\n",
    "    labels_list = []\n",
    "    conf_list = []\n",
    "    \n",
    "    for row in df.iterrows():\n",
    "        tweets_list.append(tokenise_tweet(row[1]['tweet']))\n",
    "        labels_list.append([row[1][emo]for emo in emoNames])         \n",
    "        #conf_list.append([row[1][emo+'_conf']for emo in emoNames])\n",
    "    return tweets_list,labels_list\n",
    "\n",
    "\n",
    "# tweets = _load_tweets(filename = \"/home/vlaand/IpythonNotebooks/cf-5point-data/tweet\")\n",
    "# labels = _load_labels(filename = \"/home/vlaand/IpythonNotebooks/cf-5point-data/labels-lowConfidence.csv\")\n",
    "\n",
    "tweets,labels = _read_csv(filename = \"/home/vlaand/IpythonNotebooks/cf-5point-data/data-full5.csv\",header=True)\n",
    "# print(len(tweets), 'tweets,',len(labels),'labels')"
   ]
  },
  {
   "cell_type": "markdown",
   "metadata": {},
   "source": [
    "## WORD FREQUENCIES"
   ]
  },
  {
   "cell_type": "code",
   "execution_count": 210,
   "metadata": {
    "collapsed": false
   },
   "outputs": [
    {
     "name": "stdout",
     "output_type": "stream",
     "text": [
      "1854 5157\n",
      "Populating the interactive namespace from numpy and matplotlib\n"
     ]
    },
    {
     "data": {
      "image/png": "[encoded data removed]",
      "text/plain": [
       "<matplotlib.figure.Figure at 0x7fa803230ac8>"
      ]
     },
     "metadata": {},
     "output_type": "display_data"
    }
   ],
   "source": [
    "from collections import Counter\n",
    "from stop_words import get_stop_words\n",
    "WORD_FREQUENCY_TRESHOLD = 2\n",
    "\n",
    "import os\n",
    "from sklearn.externals import joblib\n",
    "\n",
    "\n",
    "def ifExists(filename):\n",
    "    dir = os.path.dirname(filename)\n",
    "    try:\n",
    "        os.stat(dir)\n",
    "    except:\n",
    "        os.mkdir(dir) \n",
    "        \n",
    "def checkFolder(filename):\n",
    "    dir = os.path.dirname(filename)\n",
    "    try:\n",
    "        os.stat(dir)\n",
    "    except:\n",
    "        os.mkdir(dir) \n",
    "\n",
    "def _get_unique_tokens(tweets):    \n",
    "    return(Counter(token for tweet in tweets for token in tweet.split()))\n",
    "\n",
    "def _save_unique_tokens(tokens, filename='wordFrequencies.dump'):\n",
    "    \n",
    "    checkFolder(filename)\n",
    "    _ = joblib.dump(tokens, filename=filename, compress=9)\n",
    "    \n",
    "\n",
    "def _plot_word_frequencies(wordFrequencies, WORD_FREQUENCY_TRESHOLD = 3):\n",
    "    \n",
    "    freqs = []\n",
    "    for t,c in wordFrequencies.items():\n",
    "        freqs.append(c)\n",
    "        \n",
    "    q = 0\n",
    "    for t,c in wordFrequencies.items():\n",
    "        if(c >= WORD_FREQUENCY_TRESHOLD):\n",
    "            q+=1\n",
    "    print(q, len(wordFrequencies))\n",
    "    %pylab inline\n",
    "    semilogy(arange(len(freqs)),sorted(freqs))\n",
    "    show()\n",
    "    \n",
    "\n",
    "def _reduce_text(text, LANGUAGE='en', WORD_FREQUENCY_TRESHOLD = 3):    \n",
    "\n",
    "    stop_words = get_stop_words(LANGUAGE)\n",
    "\n",
    "    tweets_reduced = []\n",
    "\n",
    "    for tw in tweets:\n",
    "        tweet_r = []\n",
    "        for token in tw.split():\n",
    "            if(wordFrequencies[token] >= WORD_FREQUENCY_TRESHOLD):\n",
    "                if(not token in stop_words):\n",
    "                    tweet_r.append(token)\n",
    "\n",
    "        tweets_reduced.append( ' '.join(tweet_r)  )\n",
    "        \n",
    "    return(tweets_reduced)\n",
    "\n",
    "wordFrequencies = _get_unique_tokens(tweets)\n",
    "_save_unique_tokens(tokens=wordFrequencies,filename = '/home/vlaand/IpythonNotebooks/cf-5point-data/wordFrequencies.dump')\n",
    "_plot_word_frequencies(wordFrequencies, WORD_FREQUENCY_TRESHOLD = WORD_FREQUENCY_TRESHOLD)\n",
    "tweets_reduced = _reduce_text(tweets, WORD_FREQUENCY_TRESHOLD = WORD_FREQUENCY_TRESHOLD)"
   ]
  },
  {
   "cell_type": "code",
   "execution_count": 211,
   "metadata": {
    "collapsed": false
   },
   "outputs": [
    {
     "name": "stdout",
     "output_type": "stream",
     "text": [
      "1744 1744\n",
      "Populating the interactive namespace from numpy and matplotlib\n"
     ]
    },
    {
     "data": {
      "image/png": "[encoded data removed]",
      "text/plain": [
       "<matplotlib.figure.Figure at 0x7fa80328f320>"
      ]
     },
     "metadata": {},
     "output_type": "display_data"
    }
   ],
   "source": [
    "wordFrequencies2 = _get_unique_tokens(tweets_reduced)\n",
    "_plot_word_frequencies(wordFrequencies2, WORD_FREQUENCY_TRESHOLD = WORD_FREQUENCY_TRESHOLD)"
   ]
  },
  {
   "cell_type": "markdown",
   "metadata": {},
   "source": [
    "## N-GRAMS"
   ]
  },
  {
   "cell_type": "code",
   "execution_count": 213,
   "metadata": {
    "collapsed": false
   },
   "outputs": [
    {
     "name": "stdout",
     "output_type": "stream",
     "text": [
      "NGRAM_VALUE = 5\n"
     ]
    }
   ],
   "source": [
    "from sklearn.feature_extraction.text import CountVectorizer\n",
    "NGRAM_VALUE = 5\n",
    "\n",
    "print('NGRAM_VALUE =',NGRAM_VALUE)"
   ]
  },
  {
   "cell_type": "markdown",
   "metadata": {},
   "source": [
    "#### Save ngramizer"
   ]
  },
  {
   "cell_type": "code",
   "execution_count": 215,
   "metadata": {
    "collapsed": false
   },
   "outputs": [
    {
     "name": "stdout",
     "output_type": "stream",
     "text": [
      "2019 2440\n",
      "/home/vlaand/IpythonNotebooks/cf-5point-data/5gramizer.dump saved\n"
     ]
    }
   ],
   "source": [
    "def _save_ngramizer(filename = 'ngramizer.dump'):\n",
    "    checkFolder(filename)\n",
    "    _ = joblib.dump(ngramizer, filename=filename, compress=9)\n",
    "    print(filename+' saved')\n",
    "    \n",
    "vectorizer = CountVectorizer(ngram_range = (1,NGRAM_VALUE),token_pattern=r'\\b\\w+\\b', min_df=WORD_FREQUENCY_TRESHOLD)\n",
    "ngramizer = vectorizer.fit(tweets_reduced)\n",
    "vec = ngramizer.transform(tweets_reduced).toarray()\n",
    "print(len(vec), len(vec[0]))\n",
    "    \n",
    "_save_ngramizer(filename = '/home/vlaand/IpythonNotebooks/cf-5point-data/5gramizer.dump')"
   ]
  },
  {
   "cell_type": "markdown",
   "metadata": {},
   "source": [
    "#### Load ngramizer"
   ]
  },
  {
   "cell_type": "code",
   "execution_count": 216,
   "metadata": {
    "collapsed": false
   },
   "outputs": [],
   "source": [
    "def _load_ngramizer(filename = 'ngramizer.dump'):\n",
    "    checkFolder(filename)\n",
    "    ngramizer = joblib.load(filename = filename)\n",
    "    print(filename+' loaded')\n",
    "    return ngramizer\n",
    "\n",
    "# ngramizer = _load_ngramizer('/home/vlaand/IpythonNotebooks/senpy-plugins-NUIG/hashTagClassification/ngramizers/'+str(NGRAM_VALUE)+'gramizer.dump')\n",
    "ngramizer = _load_ngramizer('/home/vlaand/IpythonNotebooks/senpy-plugins-NUIG/hashTagClassification/ngramizers/ngramizer.dump')\n",
    "\n",
    "vec = ngramizer.transform(tweets_reduced).toarray()\n",
    "print(len(vec), len(vec[0]))"
   ]
  },
  {
   "cell_type": "markdown",
   "metadata": {},
   "source": [
    "### NGRAM FREQUENCY"
   ]
  },
  {
   "cell_type": "code",
   "execution_count": 217,
   "metadata": {
    "collapsed": false
   },
   "outputs": [
    {
     "data": {
      "image/png": "[encoded data removed]",
      "text/plain": [
       "<matplotlib.figure.Figure at 0x7fa7d02b3748>"
      ]
     },
     "metadata": {},
     "output_type": "display_data"
    }
   ],
   "source": [
    "from natsort import natsorted\n",
    "    \n",
    "train_data_features = vec#X_train_counts.toarray()\n",
    "vocab = ngramizer.get_feature_names()\n",
    "dist = np.sum(train_data_features, axis=0)\n",
    "ngram_freq = {}\n",
    "\n",
    "# For each, print the vocabulary word and the frequency\n",
    "for tag, count in zip(vocab, dist):\n",
    "    #print(tag, count)\n",
    "    ngram_freq[tag]=count\n",
    "\n",
    "semilogy(natsorted(list(ngram_freq.values()),reverse=True))\n",
    "show()"
   ]
  },
  {
   "cell_type": "markdown",
   "metadata": {},
   "source": [
    "## WORD EMBEDDINGS"
   ]
  },
  {
   "cell_type": "code",
   "execution_count": 219,
   "metadata": {
    "collapsed": false
   },
   "outputs": [
    {
     "name": "stdout",
     "output_type": "stream",
     "text": [
      "4511 tokens in we\n"
     ]
    }
   ],
   "source": [
    "EMBEDDINGS_DIM = 100\n",
    "\n",
    "# def _load_original_vectors(filename = 'wordvectors-glove.twitter.27B.200d.txt', sep = ' ', wordFrequencies = None):\n",
    "\n",
    "#     Dictionary = {}\n",
    "    \n",
    "#     for line in open(filename, 'rb'): \n",
    "#         line_d = line.decode('utf-8').split(sep)\n",
    "        \n",
    "#         token = line_d[0]\n",
    "#         token_vector = np.array(line_d[1:], dtype = 'float32')   \n",
    "#         if(wordFrequencies):\n",
    "#             if(token in wordFrequencies):                \n",
    "#                 Dictionary[token] = token_vector\n",
    "#         else:\n",
    "#             Dictionary[token] = token_vector        \n",
    "            \n",
    "#     return(Dictionary)\n",
    "\n",
    "def _load_original_vectors(filename = 'glove.27B.100d.txt', sep = ' ', wordFrequencies = None, zipped = False):\n",
    "       \n",
    "        def __read_file(f):\n",
    "            Dictionary, Indices  = {},{}\n",
    "            i = 1\n",
    "            for line in f:\n",
    "                line_d = line.decode('utf-8').split(sep)\n",
    "\n",
    "                token = line_d[0]\n",
    "                token_vector = np.array(line_d[1:], dtype = 'float32')   \n",
    "                if(wordFrequencies):\n",
    "                    if(token in wordFrequencies):                \n",
    "                        Dictionary[token] = token_vector\n",
    "                        Indices.update({token:i})\n",
    "                        i+=1\n",
    "                else:\n",
    "                    Dictionary[token] = token_vector\n",
    "                    Indices.update({token:i})\n",
    "                    i+=1\n",
    "            return(Dictionary, Indices)\n",
    "            \n",
    "        if zipped:\n",
    "            with gzip.open(filename, 'rb') as f:\n",
    "                return(__read_file(f))\n",
    "        else:\n",
    "            with open(filename, 'rb') as f:\n",
    "                return(__read_file(f))\n",
    "\n",
    "# wordFrequencies param is for reading the WE vectors that are present in the text\n",
    "Dictionary, Indices = _load_original_vectors(filename = '/home/vlaand/data/Glove/glove.twitter.27B/glove.twitter.27B.'+str(EMBEDDINGS_DIM)+'d.txt', sep = ' ', wordFrequencies=wordFrequencies)\n",
    "print(len(Dictionary),'tokens in we')"
   ]
  },
  {
   "cell_type": "markdown",
   "metadata": {},
   "source": [
    "# Vector transformations"
   ]
  },
  {
   "cell_type": "code",
   "execution_count": 220,
   "metadata": {
    "collapsed": false
   },
   "outputs": [],
   "source": [
    "import numpy as np\n",
    "import math, itertools\n",
    "from scipy import spatial\n",
    "\n",
    "def _vectors_similarity(v1 , v2):\n",
    "    return( 1 - spatial.distance.cosine(v1,v2) )\n",
    "\n",
    "def capitalRatio(tweet):\n",
    "    \n",
    "        firstCap, allCap = 0, 0\n",
    "        length = len(tweet)\n",
    "        if length==0:\n",
    "            return np.array([0,0])\n",
    "\n",
    "        for i,token in enumerate(tweet.split()):\n",
    "            if( token.istitle() ):\n",
    "                firstCap += 1\n",
    "            elif( token.isupper() ):\n",
    "                allCap += 1\n",
    "        return(np.asarray([firstCap/length,allCap/length]))  \n",
    "        \n",
    "\n",
    "def tweetToWordVectors(dictionary, tweet, fixedLength=False):\n",
    "    output = []    \n",
    "    if(fixedLength):\n",
    "        for i in range(MAX_SEQUENCE_LENGTH):\n",
    "            output.append(blankVector)\n",
    "        for i,token in enumerate(tweet.split()):\n",
    "            if token in Dictionary:\n",
    "                output[i] = Dictionary[token]                \n",
    "    else:\n",
    "         for i,token in enumerate(tweet.lower().split()):\n",
    "            if token in Dictionary:\n",
    "                output.append(Dictionary[token])            \n",
    "    return(output)\n",
    "\n",
    "def ModWordVectors(x, mod=True):\n",
    "    if(len(x) == 0):       \n",
    "        if(mod):\n",
    "            return(np.zeros(EMBEDDINGS_DIM*3, dtype='float32'))\n",
    "        else:\n",
    "            return(np.zeros(EMBEDDINGS_DIM, dtype='float32'))        \n",
    "    m =  np.matrix(x)\n",
    "    if(mod):\n",
    "        xMean = np.array(m.mean(0))[0]\n",
    "        xMin = np.array(m.min(0))[0]\n",
    "        xMax = np.array(m.max(0))[0]\n",
    "        xX = np.concatenate((xMean,xMin,xMax))\n",
    "        return(xX)\n",
    "    else:\n",
    "        return(np.array(m.mean(0))[0])\n",
    "\n",
    "def bindTwoVectors(x0,x1):\n",
    "    xX = np.array(list(itertools.chain(x0,x1)),dtype='float32')\n",
    "    return(xX)   \n",
    "\n",
    "def _bind_vectors(x):\n",
    "    xX = np.concatenate(x)\n",
    "    return(xX)     \n",
    "\n",
    "def _convert_text_to_vector(tweets, tweet_original,  Dictionary, labels, ngramvec):\n",
    "    \n",
    "    X = []\n",
    "    y = []\n",
    "#     vec = ngramizer.transform(tweets).toarray()\n",
    "    vec = ngramvec\n",
    "    for i, t in enumerate(tweets):\n",
    "#         print(i)\n",
    "        embeddingsVector = ModWordVectors(tweetToWordVectors(Dictionary,tweets[i]))\n",
    "        capitalRatioVector = capitalRatio(tweet_original[i])\n",
    "        ngramVector = vec[i]\n",
    "        X.append( _bind_vectors((ngramVector, capitalRatioVector, embeddingsVector))  )\n",
    "        y.append(labels[i])\n",
    "    \n",
    "    return(np.asarray(X), np.asarray(y))"
   ]
  },
  {
   "cell_type": "markdown",
   "metadata": {},
   "source": [
    "# SVM"
   ]
  },
  {
   "cell_type": "code",
   "execution_count": 221,
   "metadata": {
    "collapsed": false
   },
   "outputs": [
    {
     "name": "stdout",
     "output_type": "stream",
     "text": [
      "chosen emotion: confident\n",
      "data shape:   (2019, 2742)\n",
      "label shape:  (2019, 4)\n"
     ]
    }
   ],
   "source": [
    "EMOTION = 0\n",
    "\n",
    "X, y = _convert_text_to_vector(tweets = tweets_reduced, tweet_original = tweets, Dictionary = Dictionary,labels = labels, ngramvec=vec)\n",
    "\n",
    "print('chosen emotion:', emoNames[EMOTION])\n",
    "print('data shape:  ',X.shape)\n",
    "print('label shape: ',y.shape)\n",
    "# y = [y_[EMOTION] for y_ in y]\n",
    "    "
   ]
  },
  {
   "cell_type": "markdown",
   "metadata": {},
   "source": [
    "## GridSearch"
   ]
  },
  {
   "cell_type": "code",
   "execution_count": 34,
   "metadata": {
    "collapsed": false,
    "scrolled": true
   },
   "outputs": [
    {
     "name": "stdout",
     "output_type": "stream",
     "text": [
      "confident: C=0.01, tol=1e-06, score=0.5\n",
      "excited: C=0.01, tol=1e-06, score=0.5\n",
      "happy: C=0.01, tol=1e-06, score=0.5\n",
      "confident: C=0.01, tol=0.0001, score=0.5\n",
      "happy: C=0.01, tol=0.0001, score=0.5\n",
      "excited: C=0.01, tol=0.0001, score=0.5\n",
      "['happy', 0.5, 'LinearSVR', 0.01, 1.0, 0.001, 1e-06, 4, 200]\n",
      "['confident', 0.5, 'LinearSVR', 0.01, 1.0, 0.001, 1e-06, 4, 200]\n",
      "['excited', 0.5, 'LinearSVR', 0.01, 1.0, 0.001, 1e-06, 4, 200]\n"
     ]
    }
   ],
   "source": [
    "from sklearn.svm import SVR, LinearSVR\n",
    "from sklearn.externals import joblib\n",
    "from sklearn.metrics import f1_score, r2_score\n",
    "from sklearn.cross_validation import cross_val_predict, cross_val_score, train_test_split\n",
    "from collections import Counter\n",
    "from multiprocessing import Pool\n",
    "import warnings\n",
    "\n",
    "warnings.simplefilter('ignore')\n",
    "\n",
    "ESTIMATOR = 'LinearSVR'\n",
    "cv_folds = 5\n",
    "# NGRAM_VALUE = 4\n",
    "\n",
    "def _greed_search(EMOTION=0): \n",
    "    y2 = []\n",
    "    for ly in y:\n",
    "        if not np.isnan(ly[EMOTION]):        \n",
    "            y2.append(float(ly[EMOTION])/4)\n",
    "        else:\n",
    "            y2.append(2.0)\n",
    "    y2 = np.asarray(y2)       \n",
    "\n",
    "    list_acc = []    \n",
    "    list_val = []\n",
    "        \n",
    "    if(ESTIMATOR == 'LinearSVR'):                             \n",
    "        epsilon = 0.001\n",
    "        gamma=1.0\n",
    "        C = 0.01\n",
    "        for tol in [1e-6,1e-4]:\n",
    "            #for C in [0.01,0.1,1.0]:\n",
    "                cvs = cross_val_score(estimator = LinearSVR(C=C, tol=tol), X=X, y=y2, cv=cv_folds, n_jobs=cv_folds, scoring='r2') \n",
    "#                 cvs = [0.5,0.5,0.5]\n",
    "                meanScore = np.mean(np.asarray(cvs))\n",
    "                list_val.append([emoNames[EMOTION],meanScore,ESTIMATOR, C, gamma,epsilon,tol,NGRAM_VALUE,EMBEDDINGS_DIM])\n",
    "                list_acc.append(meanScore)\n",
    "                print(emoNames[EMOTION]+': C='+str(C)+', tol='+str(tol)+', score='+str(meanScore))      \n",
    "        \n",
    "    elif(ESTIMATOR == 'SVR'):                          \n",
    "        epsilon = 0.001\n",
    "#         C = 0.01\n",
    "        tol = 1e-6\n",
    "        for gamma in [0.0001,0.001,0.01,0.1,1.0,10.0]:        \n",
    "#             for tol in [1e-6,1e-5,1e-4]:\n",
    "                for C in [0.001,0.01,0.1,1.0]:                    \n",
    "#                     cvs = [0.5,0.5,0.5]\n",
    "                    cvs = cross_val_score(estimator = SVR(C=C,gamma=gamma, tol=tol), X=X, y=y2, cv=cv_folds, n_jobs=cv_folds, scoring='r2') \n",
    "                    meanScore = np.mean(np.asarray(cvs))\n",
    "                    list_val.append([emoNames[EMOTION],meanScore,ESTIMATOR, C, gamma,epsilon,tol,NGRAM_VALUE,EMBEDDINGS_DIM])\n",
    "                    list_acc.append(meanScore)\n",
    "                    print(emoNames[EMOTION]+': C='+str(C)+', tol='+str(tol)+', score='+str(meanScore)) \n",
    "    \n",
    "    best = np.argmax(list_acc)    \n",
    "    print(list_val[best])\n",
    "    out0 = {\n",
    "        'C':list_val[best][3], \n",
    "        'gamma': list_val[best][4],\n",
    "        'epsilon': list_val[best][5],\n",
    "        'tol': list_val[best][6],\n",
    "        'ngrams': list_val[best][7],\n",
    "        'EMBEDDINGS_DIM': list_val[best][8],\n",
    "        'score': list_val[best][1]\n",
    "    }\n",
    "\n",
    "    return {emoNames[EMOTION]:out0}\n",
    "    \n",
    "def _combine_best_results(pool_output, ESTIMATOR):\n",
    "    new_p = {ESTIMATOR:{}}   \n",
    "    for i in pool_output:\n",
    "        new_p[ESTIMATOR].update(i)\n",
    "        \n",
    "    return new_p            \n",
    "\n",
    "p = Pool(processes = len(emoNames))\n",
    "pool_output = p.map(_greed_search, [i for i in  range(len(emoNames))])  \n",
    "\n",
    "p.close()\n",
    "p.terminate() # Terminate all processes in the Pool\n",
    "\n",
    "temp_params = _combine_best_results(pool_output, ESTIMATOR)\n",
    "\n",
    "try:\n",
    "    train_params.update(temp_params)\n",
    "except:\n",
    "    train_params = temp_params"
   ]
  },
  {
   "cell_type": "code",
   "execution_count": 229,
   "metadata": {
    "collapsed": false
   },
   "outputs": [],
   "source": [
    "train_params = {'LinearSVR': {'confident': {'C': 0.01,\n",
    "   'EMBEDDINGS_DIM': 200,\n",
    "   'epsilon': 0.001,\n",
    "   'gamma': 1.0,\n",
    "   'ngrams': 4,\n",
    "   'score': 0.5,\n",
    "   'tol': 1e-04},\n",
    "  'excited': {'C': 0.01,\n",
    "   'EMBEDDINGS_DIM': 200,\n",
    "   'epsilon': 0.001,\n",
    "   'gamma': 1.0,\n",
    "   'ngrams': 4,\n",
    "   'score': 0.5,\n",
    "   'tol': 1e-06},\n",
    "  'happy': {'C': 0.01,\n",
    "   'EMBEDDINGS_DIM': 200,\n",
    "   'epsilon': 0.001,\n",
    "   'gamma': 1.0,\n",
    "   'ngrams': 4,\n",
    "   'score': 0.5,\n",
    "   'tol': 1e-04},\n",
    "  'surprised': {'C': 0.01,\n",
    "   'EMBEDDINGS_DIM': 200,\n",
    "   'epsilon': 0.001,\n",
    "   'gamma': 0.01,\n",
    "   'ngrams': 4,\n",
    "   'score': 0.5,\n",
    "   'tol': 1e-06}},\n",
    " 'SVR': {'confident': {'C': 0.01,\n",
    "   'EMBEDDINGS_DIM': 200,\n",
    "   'epsilon': 0.001,\n",
    "   'gamma': 0.0001,\n",
    "   'ngrams': 4,\n",
    "   'score': 0.5,\n",
    "   'tol': 1e-06},\n",
    "  'excited': {'C': 0.01,\n",
    "   'EMBEDDINGS_DIM': 200,\n",
    "   'epsilon': 0.001,\n",
    "   'gamma': 0.01,\n",
    "   'ngrams': 4,\n",
    "   'score': 0.5,\n",
    "   'tol': 1e-06},\n",
    "  'happy': {'C': 0.01,\n",
    "   'EMBEDDINGS_DIM': 200,\n",
    "   'epsilon': 0.001,\n",
    "   'gamma': 0.01,\n",
    "   'ngrams': 4,\n",
    "   'score': 0.5,\n",
    "   'tol': 1e-06},\n",
    "  'surprised': {'C': 0.01,\n",
    "   'EMBEDDINGS_DIM': 200,\n",
    "   'epsilon': 0.001,\n",
    "   'gamma': 0.01,\n",
    "   'ngrams': 4,\n",
    "   'score': 0.5,\n",
    "   'tol': 1e-06}}}"
   ]
  },
  {
   "cell_type": "markdown",
   "metadata": {
    "collapsed": false
   },
   "source": [
    "## SAVE CLASSIFIERS"
   ]
  },
  {
   "cell_type": "code",
   "execution_count": 224,
   "metadata": {
    "collapsed": false
   },
   "outputs": [
    {
     "data": {
      "text/plain": [
       "['confident', 'excited', 'happy', 'surprised']"
      ]
     },
     "execution_count": 224,
     "metadata": {},
     "output_type": "execute_result"
    }
   ],
   "source": [
    "emoNames"
   ]
  },
  {
   "cell_type": "code",
   "execution_count": 230,
   "metadata": {
    "collapsed": false
   },
   "outputs": [
    {
     "name": "stdout",
     "output_type": "stream",
     "text": [
      "model /home/vlaand/IpythonNotebooks/senpy-plugins-NUIG/fivePointRegression/classifiers/SVR/excited.dump saved\n",
      "model /home/vlaand/IpythonNotebooks/senpy-plugins-NUIG/fivePointRegression/classifiers/SVR/surprised.dump saved\n",
      "model /home/vlaand/IpythonNotebooks/senpy-plugins-NUIG/fivePointRegression/classifiers/SVR/confident.dump saved\n",
      "model /home/vlaand/IpythonNotebooks/senpy-plugins-NUIG/fivePointRegression/classifiers/SVR/happy.dump saved\n"
     ]
    }
   ],
   "source": [
    "from sklearn.svm import SVR, LinearSVR\n",
    "from sklearn.externals import joblib\n",
    "from multiprocessing import Pool\n",
    "import os, sys\n",
    "\n",
    "SEP = '/'\n",
    "EXTENSION = '.dump'\n",
    "ESTIMATOR = 'SVR'\n",
    "SAVE_DIR = '/home/vlaand/IpythonNotebooks/senpy-plugins-NUIG/fivePointRegression/classifiers/'\n",
    "\n",
    "def ifExists(filename):\n",
    "    dir = os.path.dirname(filename)\n",
    "    try:\n",
    "        os.stat(dir)\n",
    "    except:\n",
    "        os.mkdir(dir) \n",
    "\n",
    "def trainModelFor(EMOTION):\n",
    "    \n",
    "    y2 = []\n",
    "    for ly in y:  \n",
    "        if not np.isnan(ly[EMOTION]):        \n",
    "            y2.append(float(ly[EMOTION])/4)\n",
    "        else:\n",
    "            y2.append(2.0)\n",
    "        \n",
    "    y2 = np.asarray(y2)    \n",
    "    C = train_params[ESTIMATOR][ emoNames[EMOTION] ]['C'] \n",
    "    tol = train_params[ESTIMATOR][ emoNames[EMOTION] ]['tol'] \n",
    "                   \n",
    "    if(ESTIMATOR == 'SVR'):\n",
    "        gamma = train_params[ESTIMATOR][ emoNames[EMOTION] ]['gamma'] \n",
    "        svcTrained = SVR(C=C, gamma=gamma, tol=tol) \n",
    "        svcTrained.fit(X2, y2)\n",
    "    elif(ESTIMATOR == 'LinearSVR'):\n",
    "        svcTrained = LinearSVR(C=C, tol=tol)\n",
    "        svcTrained.fit(X2, y2)\n",
    "    else:\n",
    "        print('Error: Classifier is not chosen')\n",
    "        sys.exit(0)\n",
    "        \n",
    "    return(svcTrained)\n",
    "\n",
    "def checkFolder(filename):\n",
    "    dir = os.path.dirname(filename)\n",
    "    try:\n",
    "        os.stat(dir)\n",
    "    except:\n",
    "        os.mkdir(dir) \n",
    "\n",
    "def saveModelFor(model, EMOTION):\n",
    "    path = SAVE_DIR +ESTIMATOR\n",
    "    checkFolder(path)\n",
    "    filename = path + SEP +str(emoNames[EMOTION]) + EXTENSION\n",
    "    checkFolder(filename)\n",
    "    _ = joblib.dump(model, filename, compress=9)\n",
    "    print('model ' + filename + ' saved')\n",
    "    #return {emoNames[EMOTION]:model}\n",
    "    \n",
    "def trainAndSave(emotion):\n",
    "    model = trainModelFor(emotion)\n",
    "    saveModelFor(model=model, EMOTION=emotion)\n",
    "    return {emoNames[emotion]:model}\n",
    "\n",
    "def _combine_train_results(pool_output, ESTIMATOR):\n",
    "    new_p = {ESTIMATOR:{}}   \n",
    "    for i in pool_output:\n",
    "        new_p[ESTIMATOR].update(i)\n",
    "        \n",
    "    return new_p    \n",
    "\n",
    "X2 = np.asarray(X) \n",
    "with Pool(processes = len(emoNames)) as p:\n",
    "    pool_output = p.map(trainAndSave, [i for i in  range(len(emoNames))])\n",
    "\n",
    "\n",
    "temp_models = _combine_train_results(pool_output, ESTIMATOR)\n",
    "\n",
    "try:\n",
    "    train_models.update(temp_models)\n",
    "except:\n",
    "    train_models = temp_models"
   ]
  },
  {
   "cell_type": "code",
   "execution_count": 227,
   "metadata": {
    "collapsed": false
   },
   "outputs": [
    {
     "ename": "NameError",
     "evalue": "name 'y_pred' is not defined",
     "output_type": "error",
     "traceback": [
      "\u001b[0;31m---------------------------------------------------------------------------\u001b[0m",
      "\u001b[0;31mNameError\u001b[0m                                 Traceback (most recent call last)",
      "\u001b[0;32m<ipython-input-227-c433b161cc70>\u001b[0m in \u001b[0;36m<module>\u001b[0;34m()\u001b[0m\n\u001b[1;32m      4\u001b[0m \u001b[0;32mfor\u001b[0m \u001b[0mi\u001b[0m\u001b[0;34m,\u001b[0m\u001b[0my_\u001b[0m \u001b[0;32min\u001b[0m \u001b[0menumerate\u001b[0m\u001b[0;34m(\u001b[0m\u001b[0my\u001b[0m\u001b[0;34m)\u001b[0m\u001b[0;34m:\u001b[0m\u001b[0;34m\u001b[0m\u001b[0m\n\u001b[1;32m      5\u001b[0m \u001b[0;31m#     print(y_/4, y_pred[0][i], y_pred[1][i], y_pred[2][i])\u001b[0m\u001b[0;34m\u001b[0m\u001b[0;34m\u001b[0m\u001b[0m\n\u001b[0;32m----> 6\u001b[0;31m     \u001b[0my_0\u001b[0m\u001b[0;34m,\u001b[0m\u001b[0my_1\u001b[0m\u001b[0;34m,\u001b[0m\u001b[0my_2\u001b[0m \u001b[0;34m=\u001b[0m \u001b[0my_pred\u001b[0m\u001b[0;34m[\u001b[0m\u001b[0;36m0\u001b[0m\u001b[0;34m]\u001b[0m\u001b[0;34m[\u001b[0m\u001b[0mi\u001b[0m\u001b[0;34m]\u001b[0m\u001b[0;34m,\u001b[0m\u001b[0my_pred\u001b[0m\u001b[0;34m[\u001b[0m\u001b[0;36m1\u001b[0m\u001b[0;34m]\u001b[0m\u001b[0;34m[\u001b[0m\u001b[0mi\u001b[0m\u001b[0;34m]\u001b[0m\u001b[0;34m,\u001b[0m\u001b[0my_pred\u001b[0m\u001b[0;34m[\u001b[0m\u001b[0;36m2\u001b[0m\u001b[0;34m]\u001b[0m\u001b[0;34m[\u001b[0m\u001b[0mi\u001b[0m\u001b[0;34m]\u001b[0m\u001b[0;34m\u001b[0m\u001b[0m\n\u001b[0m\u001b[1;32m      7\u001b[0m \u001b[0;34m\u001b[0m\u001b[0m\n\u001b[1;32m      8\u001b[0m     \u001b[0ml0\u001b[0m\u001b[0;34m.\u001b[0m\u001b[0mappend\u001b[0m\u001b[0;34m(\u001b[0m\u001b[0my_0\u001b[0m\u001b[0;34m)\u001b[0m\u001b[0;34m\u001b[0m\u001b[0m\n",
      "\u001b[0;31mNameError\u001b[0m: name 'y_pred' is not defined"
     ]
    }
   ],
   "source": [
    "l0,l1,l2 = [],[],[]\n",
    "y0,y1,y2 = [],[],[]\n",
    "\n",
    "for i,y_ in enumerate(y):\n",
    "#     print(y_/4, y_pred[0][i], y_pred[1][i], y_pred[2][i])\n",
    "    y_0,y_1,y_2 = y_pred[0][i],y_pred[1][i],y_pred[2][i]\n",
    "    \n",
    "    l0.append(y_0)    \n",
    "    l1.append(y_1)\n",
    "    l2.append(y_2)\n",
    "        \n",
    "    y0.append(y_[0]/4)\n",
    "    y1.append(y_[1]/4)\n",
    "    if not np.isnan(y_[2]/4):\n",
    "        y2.append(y_[2]/4)\n",
    "    else:\n",
    "        print('!')\n",
    "        y2.append(0.5)\n",
    "#     print(i/4, j[0], j[1], j[2])\n",
    "              \n",
    "r2_score(y0,l0),r2_score(y1,l1),r2_score(y2,l2)\n"
   ]
  },
  {
   "cell_type": "markdown",
   "metadata": {},
   "source": [
    "## Comparison HTC-VAD    &    FPR"
   ]
  },
  {
   "cell_type": "code",
   "execution_count": 40,
   "metadata": {
    "collapsed": false
   },
   "outputs": [],
   "source": [
    "models_path_fpr = '/home/vlaand/IpythonNotebooks/senpy-plugins-development/fivePointRegression/classifiers/SVR/'\n",
    "\n",
    "models_fpr = {}\n",
    "for emo in emoNames:\n",
    "    models_fpr.update({emo:joblib.load(models_path_fpr+emo+'.dump')})\n",
    "    \n",
    "# models_fpr"
   ]
  },
  {
   "cell_type": "code",
   "execution_count": 9,
   "metadata": {
    "collapsed": false
   },
   "outputs": [],
   "source": [
    "models_path_htc = '/home/vlaand/IpythonNotebooks/senpy-plugins-NUIG/hashTagClassification/classifiers/LinearSVC/'\n",
    "\n",
    "models_htc = {}\n",
    "for emo in ['sadness', 'disgust', 'surprise', 'anger', 'fear', 'joy']:\n",
    "    models_htc.update({emo:joblib.load(models_path_htc+emo+'.dump')})\n",
    "    \n",
    "# models_htc"
   ]
  },
  {
   "cell_type": "code",
   "execution_count": 215,
   "metadata": {
    "collapsed": true
   },
   "outputs": [],
   "source": [
    "models_path_htc_rbf = '/home/vlaand/IpythonNotebooks/senpy-plugins-NUIG/hashTagClassification/classifiers/SVC/'\n",
    "\n",
    "models_htc_rbf = {}\n",
    "for emo in ['sadness', 'disgust', 'surprise', 'anger', 'fear', 'joy']:\n",
    "    models_htc_rbf.update({emo:joblib.load(models_path_htc_rbf+emo+'.dump')})\n",
    "    \n",
    "# models_htc_rbf"
   ]
  },
  {
   "cell_type": "code",
   "execution_count": 18,
   "metadata": {
    "collapsed": false
   },
   "outputs": [],
   "source": [
    "Dictionary\n",
    "# wordFrequencies\n",
    "# ngramizer"
   ]
  },
  {
   "cell_type": "code",
   "execution_count": 10,
   "metadata": {
    "collapsed": false
   },
   "outputs": [],
   "source": [
    "def _load_unique_tokens(filename = 'wordFrequencies.dump'):\n",
    "\n",
    "#     filename = os.path.join(os.path.dirname(__file__),filename)\n",
    "    return(joblib.load(filename))\n",
    "\n",
    "wordFrequencies = _load_unique_tokens('/home/vlaand/IpythonNotebooks/senpy-plugins-NUIG/hashTagClassification/wordFrequencies.dump')"
   ]
  },
  {
   "cell_type": "code",
   "execution_count": 11,
   "metadata": {
    "collapsed": false
   },
   "outputs": [],
   "source": [
    "def foo():\n",
    "    ngramizers = []\n",
    "    for n_grams in [2,3,4]:        \n",
    "        filename = os.path.join('/home/vlaand/IpythonNotebooks/senpy-plugins-NUIG/hashTagClassification/ngramizers/', str(n_grams)+'gramizer.dump')\n",
    "        ngramizers.append( joblib.load(filename) )\n",
    "        \n",
    "    return ngramizers\n",
    "\n",
    "ngramizers = foo()"
   ]
  },
  {
   "cell_type": "code",
   "execution_count": 121,
   "metadata": {
    "collapsed": true
   },
   "outputs": [],
   "source": [
    "# ngramizer = joblib.load('/home/vlaand/IpythonNotebooks/senpy-plugins-NUIG/hashTagClassification/ngramizers/4gramizer.dump')"
   ]
  },
  {
   "cell_type": "code",
   "execution_count": 14,
   "metadata": {
    "collapsed": false
   },
   "outputs": [
    {
     "name": "stdout",
     "output_type": "stream",
     "text": [
      "training data loaded from </home/vlaand/IpythonNotebooks/cf-5point-data/data-full.csv>\n"
     ]
    }
   ],
   "source": [
    "import pandas as pd\n",
    "\n",
    "dataTrain = _read_csv_data(filename = _path_dataset, header=True)    \n",
    "print('training data loaded from <'+_path_dataset+'>')\n",
    "\n",
    "train_tweets = []\n",
    "train_labels = []\n",
    "\n",
    "for i in dataTrain:\n",
    "    scores = []\n",
    "    for score in i[1:]:\n",
    "        if(np.isnan(score)):\n",
    "            scores.append(2.0)\n",
    "        else:\n",
    "            scores.append(score)\n",
    "    train_labels.append(scores)\n",
    "    train_tweets.append(i[0])"
   ]
  },
  {
   "cell_type": "code",
   "execution_count": 15,
   "metadata": {
    "collapsed": false
   },
   "outputs": [],
   "source": [
    "_ngramVectors = []\n",
    "\n",
    "for i in ngramizers:\n",
    "    _ngramVectors.append(i.transform(train_tweets).toarray())"
   ]
  },
  {
   "cell_type": "code",
   "execution_count": 16,
   "metadata": {
    "collapsed": false
   },
   "outputs": [
    {
     "name": "stdout",
     "output_type": "stream",
     "text": [
      "(2019, 16169) (2019, 18241) (2019, 19192)\n",
      "(2019, 3)\n"
     ]
    }
   ],
   "source": [
    "X_eval_2, y_eval = _convert_text_to_vector(tweets = train_tweets, tweet_original = train_tweets, Dictionary = Dictionary, labels = train_labels, ngramvec =_ngramVectors[0])\n",
    "X_eval_3, y_eval = _convert_text_to_vector(tweets = train_tweets, tweet_original = train_tweets, Dictionary = Dictionary, labels = train_labels, ngramvec =_ngramVectors[1])\n",
    "X_eval_4, y_eval = _convert_text_to_vector(tweets = train_tweets, tweet_original = train_tweets, Dictionary = Dictionary, labels = train_labels, ngramvec =_ngramVectors[2])\n",
    "\n",
    "print(X_eval_2.shape,X_eval_3.shape,X_eval_4.shape)\n",
    "print(y_eval.shape)"
   ]
  },
  {
   "cell_type": "code",
   "execution_count": null,
   "metadata": {
    "collapsed": true
   },
   "outputs": [],
   "source": [
    "X = {'sadness':X4, 'disgust':X4, 'surprise':X4, 'anger':X2, 'fear':X4, 'joy':X3}"
   ]
  },
  {
   "cell_type": "markdown",
   "metadata": {},
   "source": [
    "### Predicts to VAD"
   ]
  },
  {
   "cell_type": "code",
   "execution_count": 24,
   "metadata": {
    "collapsed": false
   },
   "outputs": [],
   "source": [
    "y_pred_htc = {}\n",
    "\n",
    "for emo in ['sadness', 'disgust', 'surprise', 'anger', 'fear', 'joy']:\n",
    "    if emo == 'anger':\n",
    "        y_pred_htc.update({emo:models_htc[emo].predict(X_eval_2)})\n",
    "    elif emo == 'joy':\n",
    "        y_pred_htc.update({emo:models_htc[emo].predict(X_eval_3)})\n",
    "    else:\n",
    "        y_pred_htc.update({emo:models_htc[emo].predict(X_eval_4)})\n",
    "        \n",
    "features_htc = {}\n",
    "for dimension in ['V','A','D']:\n",
    "    values = []\n",
    "    for row in range(len(y_pred_htc['surprise'])):\n",
    "        weights=[y_pred_htc[i][row] for i in y_pred_htc if (i != 'surprise')]\n",
    "        if False in all(v == 0 for v in weights):\n",
    "            values.append(np.average([centroids[i][dimension] for i in y_pred_htc if (i != 'surprise')], weights=weights ))\n",
    "        else:\n",
    "            values.append(5.0)            \n",
    "    features_htc.update({dimension:values})   \n",
    "    \n",
    "features_htc"
   ]
  },
  {
   "cell_type": "code",
   "execution_count": null,
   "metadata": {
    "collapsed": false
   },
   "outputs": [
    {
     "name": "stdout",
     "output_type": "stream",
     "text": [
      "1\n",
      "sadness\n"
     ]
    }
   ],
   "source": [
    "y_pred_htc_rbf = {}\n",
    "for emo in ['sadness', 'disgust', 'surprise', 'anger', 'fear', 'joy']:\n",
    "    print(emo)\n",
    "    if emo == 'anger':\n",
    "        y_pred_htc_rbf.update({emo:models_htc_rbf[emo].predict_proba(X_eval_2)})\n",
    "    elif emo == 'joy':\n",
    "        y_pred_htc_rbf.update({emo:models_htc_rbf[emo].predict_proba(X_eval_3)})\n",
    "    else:\n",
    "        y_pred_htc_rbf.update({emo:models_htc_rbf[emo].predict_proba(X_eval_4)})\n"
   ]
  },
  {
   "cell_type": "code",
   "execution_count": 232,
   "metadata": {
    "collapsed": false
   },
   "outputs": [
    {
     "name": "stdout",
     "output_type": "stream",
     "text": [
      "V\n",
      "A\n",
      "D\n"
     ]
    }
   ],
   "source": [
    "features_htc_rbf = {}\n",
    "for dimension in ['V','A','D']:\n",
    "    print(dimension)\n",
    "    values = []\n",
    "    for row in range(len(y_pred_htc_rbf['surprise'])):\n",
    "        weights=[y_pred_htc_rbf[i][row][1] for i in y_pred_htc_rbf if (i != 'surprise')]\n",
    "#         if False in all(v == 0 for v in weights):\n",
    "        values.append(np.average([centroids[i][dimension] for i in y_pred_htc_rbf if (i != 'surprise')], weights=weights ))\n",
    "#         else:\n",
    "#             values.append(5.0)            \n",
    "    features_htc_rbf.update({dimension:values})   \n",
    "    \n",
    "# features_htc_rbf"
   ]
  },
  {
   "cell_type": "code",
   "execution_count": 119,
   "metadata": {
    "collapsed": false
   },
   "outputs": [
    {
     "data": {
      "text/plain": [
       "{'confident': array([ 5.99784253,  6.03535934,  6.03450945, ...,  6.03278388,\n",
       "         6.01940154,  6.04865325]),\n",
       " 'excited': array([ 6.04721026,  6.13505352,  6.21766691, ...,  6.17532646,\n",
       "         6.14233364,  6.31161089]),\n",
       " 'happy': array([ 4.67336817,  4.32912562,  4.62225976, ...,  5.25173427,\n",
       "         4.73891756,  5.04414936])}"
      ]
     },
     "execution_count": 119,
     "metadata": {},
     "output_type": "execute_result"
    }
   ],
   "source": [
    "y_pred_fpr = {}\n",
    "\n",
    "for emo in emoNames:\n",
    "    y_pred_fpr.update({emo:10*models_fpr[emo].predict(X_eval_4)})\n",
    "    \n",
    "y_pred_fpr"
   ]
  },
  {
   "cell_type": "code",
   "execution_count": 155,
   "metadata": {
    "collapsed": true
   },
   "outputs": [],
   "source": [
    "y_annotated = {'V':y_eval.T[0]*10/4, 'A':y_eval.T[1]*10/4 ,'D':y_eval.T[2]*10/4}"
   ]
  },
  {
   "cell_type": "code",
   "execution_count": null,
   "metadata": {
    "collapsed": true
   },
   "outputs": [],
   "source": [
    "vad_mappings = {\n",
    "     'confident': 'D',\n",
    "     'excited': 'A',\n",
    "     'happy': 'V',\n",
    "     'D':'confident',\n",
    "     'A':'excited',\n",
    "     'V':'happy'\n",
    "}"
   ]
  },
  {
   "cell_type": "code",
   "execution_count": 233,
   "metadata": {
    "collapsed": false
   },
   "outputs": [
    {
     "name": "stdout",
     "output_type": "stream",
     "text": [
      "-0.620680748396 -19.4727733044 -1.75307874052\n",
      "-2.27833304462 -29.496527739 -14.8417019805\n",
      "-1.56540913825 -22311.4709413 -9.50414297565\n"
     ]
    }
   ],
   "source": [
    "for i,dimension in enumerate(['V','A','D']):\n",
    "    print( \n",
    "        r2_score(   features_htc[dimension],               y_annotated[dimension]               ),\n",
    "        r2_score(   y_pred_fpr[vad_mappings[dimension]],   y_annotated[dimension]               ),\n",
    "        r2_score(   features_htc_rbf[dimension],           y_annotated[dimension]               )\n",
    "        )"
   ]
  },
  {
   "cell_type": "markdown",
   "metadata": {},
   "source": [
    "# PLOT"
   ]
  },
  {
   "cell_type": "code",
   "execution_count": 280,
   "metadata": {
    "collapsed": false
   },
   "outputs": [
    {
     "name": "stdout",
     "output_type": "stream",
     "text": [
      "Populating the interactive namespace from numpy and matplotlib\n"
     ]
    },
    {
     "data": {
      "image/png": "[encoded data removed]",
      "text/plain": [
       "<matplotlib.figure.Figure at 0x7f4a50f82ba8>"
      ]
     },
     "metadata": {},
     "output_type": "display_data"
    }
   ],
   "source": [
    "%pylab inline\n",
    "\n",
    "import numpy as np\n",
    "import matplotlib.pyplot as plt\n",
    "import natsort\n",
    "\n",
    "tmp_range = 2018\n",
    "dimension = 'A'\n",
    "\n",
    "s = y_annotated[dimension]\n",
    "order = sorted(range(len(s)), key=lambda k: s[k])\n",
    "\n",
    "g0 = [i for i in range(2019)]\n",
    "g1 = features_htc[dimension]\n",
    "g2 = y_pred_fpr[vad_mappings[dimension]] \n",
    "g3 = features_htc_rbf[dimension]\n",
    "g4 = y_annotated[dimension]\n",
    "    \n",
    "plt.grid(True)\n",
    "# plt.plot(g1[0:tmp_range], 'r', g2[0:tmp_range], 'b', g3[0:tmp_range], 'g')\n",
    "# plt.legend()\n",
    "# plt.show()\n",
    "\n",
    "\n",
    "line_0, = plt.plot(np.array(g1)[], 'b.',  label='htc SVM')\n",
    "line_1, = plt.plot(np.array(g2)[order], 'r.', label='fpr SVM')\n",
    "line_2, = plt.plot(np.array(g3)[order], 'm.', label='htc SVM rbf')\n",
    "line_3, = plt.plot(np.array(g4)[order], 'g.', label='annotated')\n",
    "# plt.plot([0,l],[.3,.3])\n",
    "# plt.plot([0,l],[-.3,-.3])\n",
    "plt.legend(handles=[line_0, line_2, line_1, line_3])\n",
    "plt.legend(bbox_to_anchor=(1.02, .4, .65, .0), loc=3,\n",
    "           ncol=2, mode=\"expand\", borderaxespad=0.)\n",
    "# plt.legend(bbox_to_anchor=(0.6, 0.05, 0.35, .102), loc=4,\n",
    "#            ncol=1, mode=\"expand\", borderaxespad=0.)\n",
    "\n",
    "plt.ylabel('dimension: '+dimension)\n",
    "plt.xlabel('tweets')\n",
    "plt.title(\"Models Evaluation on 5point corpus\")\n",
    "plt.show()"
   ]
  },
  {
   "cell_type": "code",
   "execution_count": null,
   "metadata": {
    "collapsed": true
   },
   "outputs": [],
   "source": [
    "feature_set_ftr = {emo: clf.predict_proba(X[emo]) for emo,clf in zip(emoNames, classifiers[estimator])}\n",
    "\n",
    "# feature_set_htc = {emo: clf.predict(X[emo]) for emo,clf in zip(['sadness', 'disgust', 'surprise', 'anger', 'fear', 'joy'], classifiers[estimator])} \n",
    "            "
   ]
  },
  {
   "cell_type": "code",
   "execution_count": 22,
   "metadata": {
    "collapsed": true
   },
   "outputs": [],
   "source": [
    "centroids= {\n",
    "                            \"anger\": {\n",
    "                                \"A\": 6.95, \n",
    "                                \"D\": 5.1, \n",
    "                                \"V\": 2.7\n",
    "                            }, \n",
    "                            \"disgust\": {\n",
    "                                \"A\": 5.3, \n",
    "                                \"D\": 8.05, \n",
    "                                \"V\": 2.7\n",
    "                            }, \n",
    "                            \"fear\": {\n",
    "                                \"A\": 6.5, \n",
    "                                \"D\": 3.6, \n",
    "                                \"V\": 3.2\n",
    "                            }, \n",
    "                            \"joy\": {\n",
    "                                \"A\": 7.22, \n",
    "                                \"D\": 6.28, \n",
    "                                \"V\": 8.6\n",
    "                            }, \n",
    "                            \"sadness\": {\n",
    "                                \"A\": 5.21, \n",
    "                                \"D\": 2.82, \n",
    "                                \"V\": 2.21\n",
    "                            },\n",
    "                            \"neutral\": {\n",
    "                                \"A\": 5.0, \n",
    "                                \"D\": 5.0, \n",
    "                                \"V\": 5.0\n",
    "                            }\n",
    "                        }"
   ]
  },
  {
   "cell_type": "markdown",
   "metadata": {},
   "source": [
    "# LSTM"
   ]
  },
  {
   "cell_type": "code",
   "execution_count": 250,
   "metadata": {
    "collapsed": false
   },
   "outputs": [],
   "source": [
    "import numpy as np\n",
    "import pandas as pd\n",
    "import csv\n",
    "\n",
    "from keras.preprocessing import sequence\n",
    "from keras.utils.np_utils import to_categorical\n",
    "from keras.models import Sequential\n",
    "from keras.layers import Dense, Activation, Embedding, Bidirectional, Dropout, LSTM\n",
    "from keras.regularizers import l2\n",
    "\n",
    "from imblearn.over_sampling import RandomOverSampler\n",
    "from sklearn.cross_validation import StratifiedKFold"
   ]
  },
  {
   "cell_type": "code",
   "execution_count": 182,
   "metadata": {
    "collapsed": false
   },
   "outputs": [],
   "source": [
    "def _read_csv_data(filename = \"data.csv\", header=True):\n",
    "    \n",
    "    df = pd.read_csv(filepath_or_buffer = filename)     \n",
    "    print('data loaded from <'+filename+'>')\n",
    "    print('\\t'+str(len(df))+' entries')    \n",
    "    \n",
    "    tweets_list = []    \n",
    "    for row in df.iterrows():\n",
    "        tweets_list.append([tokenise_tweet(row[1]['tweet'])] +[row[1][emo]for emo in emoNames])   \n",
    "    return tweets_list\n",
    "\n",
    "def _read_csv_we(filename = \"data.csv\"):\n",
    "    \n",
    "    embedding_index = {}\n",
    "\n",
    "    for row in pd.read_csv(filepath_or_buffer=filename, sep = ' ', header=None).iterrows():\n",
    "        word, coefs = row[1][0], np.asarray(row[1][1:])\n",
    "        embedding_index[word] = coefs\n",
    "        \n",
    "    print('we vectors loaded from <'+filename+'>')\n",
    "    print('\\t'+str(len(embedding_index))+'\\tentries')    \n",
    "        \n",
    "    return embedding_index\n",
    "\n",
    "\n",
    "def _load_original_vectors(filename = 'glove.27B.100d.txt', sep = ' ', wordFrequencies = None, zipped = False):\n",
    "       \n",
    "        def __read_file(f):\n",
    "            Dictionary, Indices  = {},{}\n",
    "            i = 1\n",
    "            for line in f:\n",
    "                line_d = line.decode('utf-8').split(sep)\n",
    "\n",
    "                token = line_d[0]\n",
    "                token_vector = np.array(line_d[1:], dtype = 'float32')   \n",
    "                if(wordFrequencies):\n",
    "                    if(token in wordFrequencies):                \n",
    "                        Dictionary[token] = token_vector\n",
    "                        Indices.update({token:i})\n",
    "                        i+=1\n",
    "                else:\n",
    "                    Dictionary[token] = token_vector\n",
    "                    Indices.update({token:i})\n",
    "                    i+=1\n",
    "            return(Dictionary, Indices)\n",
    "            \n",
    "        if zipped:\n",
    "            with gzip.open(filename, 'rb') as f:\n",
    "                return(__read_file(f))\n",
    "        else:\n",
    "            with open(filename, 'rb') as f:\n",
    "                return(__read_file(f))\n",
    "\n",
    "        \n",
    "#         return(Dictionary, Indices)\n",
    "\n",
    "def _texts_to_sequences(train_tweets):\n",
    "    \n",
    "    train_sequences = []\n",
    "    for i,tweet in enumerate(train_tweets): \n",
    "        tw = []\n",
    "        for token in tweet.split():\n",
    "            try:\n",
    "                tw.append(Indices[token])\n",
    "            except:\n",
    "                continue\n",
    "        tw.extend([0]*( maxlen-len(tw)) )\n",
    "        train_sequences.append(np.asarray(tw))\n",
    "    return train_sequences\n",
    "\n",
    "def _data_to_lists(dataTrain):    \n",
    "    \n",
    "    train_tweets, train_labels = [], []\n",
    "    print('stacking data to lists')\n",
    "    for i in dataTrain:\n",
    "        scores = []\n",
    "        for score in i[1:]:\n",
    "            if np.isnan(score):\n",
    "                scores.append( 0 )\n",
    "                print('\\tWarning: Nan value present in dataset')\n",
    "            else:\n",
    "                scores.append(score-2)\n",
    "        train_labels.append(scores)\n",
    "        train_tweets.append(i[0])\n",
    "    print('data stacked to lists\\n\\t'+str(len(train_tweets))+' tweets\\n\\t'+str(len(train_labels))+' labels')\n",
    "    return train_tweets, train_labels\n",
    "\n",
    "def _get_maxlen(tweets):\n",
    "    max = 0\n",
    "    for tw in tweets:\n",
    "        if len(tw.split()) > max:\n",
    "            max = len(tw.split())\n",
    "    return max"
   ]
  },
  {
   "cell_type": "code",
   "execution_count": 241,
   "metadata": {
    "collapsed": true
   },
   "outputs": [],
   "source": [
    "seed = 1337\n",
    "np.random.seed(seed)\n",
    "\n",
    "maxlen = 65\n",
    "batch_size = 32\n",
    "EMBEDDINGS_DIM = 100\n",
    "epochs = 50\n",
    "\n",
    "hidden_dims1 = 50\n",
    "hidden_dims2 = 25\n",
    "hidden_dims3 = 3\n",
    "\n",
    "path = '/home/vlaand/IpythonNotebooks/cf-5point-data/'\n",
    "\n",
    "_path_wordembeddings = '/home/vlaand/data/Glove/glove.twitter.27B/glove.twitter.27B.'+str(EMBEDDINGS_DIM)+'d.txt'\n",
    "_path_dataset = path + \"data-full5.csv\""
   ]
  },
  {
   "cell_type": "markdown",
   "metadata": {},
   "source": [
    "### Load training data and word embeddinbgs"
   ]
  },
  {
   "cell_type": "code",
   "execution_count": 242,
   "metadata": {
    "collapsed": false
   },
   "outputs": [
    {
     "name": "stdout",
     "output_type": "stream",
     "text": [
      "data loaded from </home/vlaand/IpythonNotebooks/cf-5point-data/data-full5.csv>\n",
      "\t2019 entries\n",
      "stacking data to lists\n",
      "data stacked to lists\n",
      "\t2019 tweets\n",
      "\t2019 labels\n"
     ]
    }
   ],
   "source": [
    "dataTrain = _read_csv_data(filename = _path_dataset, header=True)  \n",
    "\n",
    "train_tweets, train_labels = _data_to_lists(dataTrain)"
   ]
  },
  {
   "cell_type": "code",
   "execution_count": 243,
   "metadata": {
    "collapsed": false
   },
   "outputs": [],
   "source": [
    "wordFrequencies = _get_unique_tokens(train_tweets)\n",
    "# _plot_word_frequencies(wordFrequencies, WORD_FREQUENCY_TRESHOLD = WORD_FREQUENCY_TRESHOLD)\n",
    "\n",
    "Dictionary, Indices = _load_original_vectors(\n",
    "        filename = '/home/vlaand/data/Glove/glove.twitter.27B/glove.twitter.27B.'+str(EMBEDDINGS_DIM)+'d.txt', \n",
    "        sep = ' ', \n",
    "        wordFrequencies=None,\n",
    "        zipped=False)"
   ]
  },
  {
   "cell_type": "code",
   "execution_count": 244,
   "metadata": {
    "collapsed": false
   },
   "outputs": [
    {
     "name": "stdout",
     "output_type": "stream",
     "text": [
      "matrix created\n",
      "\t (1193515, 100)\n"
     ]
    },
    {
     "name": "stderr",
     "output_type": "stream",
     "text": [
      "/home/vlaand/anaconda3/lib/python3.5/site-packages/ipykernel/__main__.py:8: FutureWarning: comparison to `None` will result in an elementwise object comparison in the future.\n"
     ]
    },
    {
     "name": "stdout",
     "output_type": "stream",
     "text": [
      "2019 train sequences loaded\n",
      "\t (2019, 65) \n",
      "\t (2019, 4)\n"
     ]
    }
   ],
   "source": [
    "train_sequences = _texts_to_sequences(train_tweets)\n",
    "\n",
    "embedding_matrix = np.zeros((len(Indices)+1, EMBEDDINGS_DIM))\n",
    "\n",
    "print('matrix created\\n\\t',embedding_matrix.shape)\n",
    "for (word, i) in Indices.items():\n",
    "    embedding_vector = Dictionary.get(word)\n",
    "    if (embedding_vector != None):\n",
    "        embedding_matrix[i] = embedding_vector.astype(np.float)\n",
    "\n",
    "X = sequence.pad_sequences(train_sequences, maxlen=maxlen)\n",
    "y = np.array(train_labels)\n",
    "\n",
    "print(len(X), 'train sequences loaded')\n",
    "print('\\t',X.shape,'\\n\\t', y.shape)"
   ]
  },
  {
   "cell_type": "code",
   "execution_count": 334,
   "metadata": {
    "collapsed": false
   },
   "outputs": [
    {
     "name": "stdout",
     "output_type": "stream",
     "text": [
      "already normalized (0.0, 1.0)\n"
     ]
    }
   ],
   "source": [
    "if (np.min(y), np.max(y)) != (0.0, 1.0):\n",
    "    y = (y+2)/4\n",
    "    print('labels normalized',(np.min(y), np.max(y)))\n",
    "else:\n",
    "    print('already normalized',(np.min(y), np.max(y)))"
   ]
  },
  {
   "cell_type": "markdown",
   "metadata": {},
   "source": [
    "## Evaluation / Cross validation"
   ]
  },
  {
   "cell_type": "markdown",
   "metadata": {},
   "source": [
    "\n",
    "\n",
    "### Kfold cross-validation"
   ]
  },
  {
   "cell_type": "code",
   "execution_count": 66,
   "metadata": {
    "collapsed": false,
    "scrolled": true
   },
   "outputs": [
    {
     "name": "stderr",
     "output_type": "stream",
     "text": [
      "/home/vlaand/anaconda3/lib/python3.5/site-packages/sklearn/model_selection/_split.py:581: Warning: The least populated class in y has only 1 members, which is too few. The minimum number of groups for any class cannot be less than n_splits=5.\n",
      "  % (min_groups, self.n_splits)), Warning)\n"
     ]
    },
    {
     "name": "stdout",
     "output_type": "stream",
     "text": [
      "R2[confident]\t0.12651473344\n",
      "R2[excited]\t0.183913593432\n",
      "R2[happy]\t0.325849621671\n",
      "R2[confident]\t0.114282643682\n",
      "R2[excited]\t0.280324333738\n",
      "R2[happy]\t0.33475915174\n",
      "R2[confident]\t0.0799940323227\n",
      "R2[excited]\t0.297428340739\n",
      "R2[happy]\t0.427131191301\n",
      "R2[confident]\t0.115380225651\n",
      "R2[excited]\t0.318680321749\n",
      "R2[happy]\t0.245129420541\n",
      "R2[confident]\t0.12899566559\n",
      "R2[excited]\t0.276562234678\n",
      "R2[happy]\t0.34378839584\n"
     ]
    }
   ],
   "source": [
    "from multiprocessing import Pool\n",
    "from sklearn.metrics import r2_score\n",
    "import os\n",
    "\n",
    "epochs = 20\n",
    "n_splits = 5\n",
    "\n",
    "def _cross_validation_parallel(_input):\n",
    "    train, test = _input\n",
    "    \n",
    "    model = Sequential()\n",
    "    model.add(Embedding(len(Indices)+1,  EMBEDDINGS_DIM, weights=[embedding_matrix],\n",
    "                                input_length=maxlen, trainable=False))\n",
    "    model.add(Bidirectional(LSTM(EMBEDDINGS_DIM)))\n",
    "    #model.add(Dropout(0.2))\n",
    "    model.add(Dense(hidden_dims1, kernel_regularizer=l2(0.01)), )\n",
    "    model.add(Dense(hidden_dims2, kernel_regularizer=l2(0.01)), ) \n",
    "    model.add(Dense(hidden_dims3, activation='elu'))\n",
    "\n",
    "    model.compile(loss='mae', optimizer='adam',metrics=['accuracy'])\n",
    "\n",
    "    model.fit(X[train], y[train], batch_size=batch_size, epochs=epochs, validation_split=None, verbose=0)\n",
    "\n",
    "    scores = []\n",
    "    for i in [0,1,2]:\n",
    "        score = r2_score( y[test][:, i] , model.predict(X[test])[:, i] )\n",
    "        #score = r2_score([y_[i] for y_ in y[test]], [y_[i] for y_ in model.predict(X[test])])\n",
    "        print(\"R2[\"+emoNames[i]+\"]\\t\"+str(score))\n",
    "        scores.append(score)        \n",
    "    return scores\n",
    "\n",
    "seed = 1337\n",
    "np.random.seed(seed)\n",
    "\n",
    "kfold = StratifiedKFold(n_splits=n_splits, shuffle=True, random_state=seed)\n",
    "\n",
    "with Pool(processes = n_splits) as p:\n",
    "    cvscores = p.map(_cross_validation_parallel, [(train, test) for (train, test) in kfold.split(X, [yy[0] for yy in y])])"
   ]
  },
  {
   "cell_type": "code",
   "execution_count": 68,
   "metadata": {
    "collapsed": false
   },
   "outputs": [
    {
     "name": "stdout",
     "output_type": "stream",
     "text": [
      "5-fold cross validation\n",
      "\n",
      "R2[confident] \t0.1130 (+/- 0.02)\n",
      "R2[excited] \t0.2714 (+/- 0.05)\n",
      "R2[happy] \t0.3353 (+/- 0.06)\n"
     ]
    }
   ],
   "source": [
    "print(\"%d-fold cross validation\\n\" % (n_splits))\n",
    "for i in [0,1,2]:\n",
    "    print(\"R2[%s] \\t%.4f (+/- %.2f)\" % (emoNames[i], np.mean(cvscores,axis=0)[i], np.std(cvscores,axis=0)[i]))"
   ]
  },
  {
   "cell_type": "raw",
   "metadata": {},
   "source": [
    "5-fold cross validation\n",
    "\n",
    "R2[confident] \t0.0758 (+/- 0.02)\n",
    "R2[excited] \t0.2215 (+/- 0.03)\n",
    "R2[happy] \t0.2808 (+/- 0.02)\n",
    "\n",
    "3-fold cross validation\n",
    "\n",
    "R2[confident] \t0.09 (+/- 0.14)\n",
    "R2[excited] \t0.20 (+/- 0.11)\n",
    "R2[happy] \t0.18 (+/- 0.08)"
   ]
  },
  {
   "cell_type": "code",
   "execution_count": null,
   "metadata": {
    "collapsed": false
   },
   "outputs": [],
   "source": [
    "from keras.models import Sequential\n",
    "from keras.layers import Dense\n",
    "from sklearn.cross_validation import StratifiedKFold\n",
    "\n",
    "from sklearn.metrics import r2_score, f1_score, classification_report\n",
    "# from skll.metrics import pearsonr, spearman\n",
    "from scipy.stats import pearsonr, spearmanr\n",
    "\n",
    "from multiprocessing import Pool, Manager\n",
    "import os\n",
    "import numpy as np\n",
    "\n",
    "def _cross_validation_parallel(_input):\n",
    "    train, test = _input\n",
    "    \n",
    "    model = Sequential()\n",
    "    model.add(Embedding(len(Indices)+1,  EMBEDDINGS_DIM, weights=[embedding_matrix],\n",
    "                                input_length=maxlen, trainable=False))\n",
    "    model.add(Bidirectional(LSTM(EMBEDDINGS_DIM))) #dropout is same as regularisation\n",
    "    model.add(Dropout(0.2))\n",
    "    model.add(Dense(hidden_dims1, W_regularizer=l2(0.01)), )\n",
    "    model.add(Dense(hidden_dims2, W_regularizer=l2(0.01)), ) #!!!\n",
    "    model.add(Dense(hidden_dims3, activation='softsign'))\n",
    "    model.compile(loss='mean_absolute_error', optimizer='adam', metrics=['accuracy', matthews_correlation])\n",
    "        \n",
    "    model.fit(X[train], y[train], batch_size=batch_size, nb_epoch=nb_epoch, validation_split=None)\n",
    "    \n",
    "#     scores = model.evaluate(X[test], y[test], verbose=0,)\n",
    "    y_test_predict = model.predict(X[test])\n",
    "#     y_test_predict = np.reshape(y_test_predict, newshape=(len(y_test_predict),))\n",
    "    \n",
    "    scores =  [\n",
    "                [r2_score(y_test_predict[:,emo], y[test][:,emo]) for emo in [0,1,2,3]], \n",
    "                [pearsonr(y_test_predict[:,emo], y[test][:,emo]) for emo in [0,1,2,3]], \n",
    "                [spearmanr(y_test_predict[:,emo], y[test][:,emo]) for emo in [0,1,2,3]]\n",
    "              ]\n",
    "#     try:\n",
    "#         print(\"%s: %.2f\" % (model.metrics_names[2], scores[1]))\n",
    "#     except:\n",
    "#         print('Error')\n",
    "    return scores\n",
    "\n",
    "nb_epoch = 80\n",
    "n_splits = 5\n",
    "hidden_dims1, hidden_dims2, hidden_dims3 = 50, 25, 4\n",
    "np.random.seed(1337)\n",
    "\n",
    "# with open('senpy-plugins-development/fivePointRegression/classifiers/LSTM/log.out', \"w\") as log_file:\n",
    "#     log_file.write(str(cvscores)+'\\n')\n",
    "#     log_file.write(\"%.2f (+/- %.2f%%)\" % (np.mean(cvscores), np.std(cvscores)))"
   ]
  },
  {
   "cell_type": "code",
   "execution_count": null,
   "metadata": {
    "collapsed": false
   },
   "outputs": [
    {
     "name": "stderr",
     "output_type": "stream",
     "text": [
      "/home/vlaand/anaconda3/lib/python3.5/site-packages/sklearn/cross_validation.py:516: Warning: The least populated class in y has only 1 members, which is too few. The minimum number of labels for any class cannot be less than n_folds=5.\n",
      "  % (min_labels, self.n_folds)), Warning)\n"
     ]
    },
    {
     "name": "stdout",
     "output_type": "stream",
     "text": [
      "Epoch 1/80\n",
      " 448/1618 [=======>......................] - ETA: 52s - loss: 1.5245 - acc: 0.4576 - matthews_correlation: 0.2409"
     ]
    }
   ],
   "source": [
    "kfold = StratifiedKFold(n_folds=n_splits, shuffle=True, random_state=1337, y=y[:,0])\n",
    "\n",
    "with Pool(processes = n_splits) as p:\n",
    "    cvscores = p.map(_cross_validation_parallel, ((train, test) for (train, test) in kfold))"
   ]
  },
  {
   "cell_type": "code",
   "execution_count": 196,
   "metadata": {
    "collapsed": false
   },
   "outputs": [
    {
     "name": "stdout",
     "output_type": "stream",
     "text": [
      "\t\tR2\tsd\tpearson\tsd\tspearman\n",
      "[confident]\t-0.62\t0.09\t0.44\t0.02\t0.43\t0.01\n",
      "[ excited]\t-0.65\t0.04\t0.52\t0.01\t0.52\t0.00\n",
      "[   happy]\t-0.14\t0.05\t0.62\t0.02\t0.62\t0.02\n",
      "[surprised]\t-1.68\t0.09\t0.29\t0.01\t0.28\t0.02\n"
     ]
    }
   ],
   "source": [
    "print('\\t\\tR2\\tsd\\tpearson\\tsd\\tspearman')\n",
    "for emo in [0,1,2,3]:\n",
    "\n",
    "    r2 = [n[emo] for n in [fold[0] for fold in cvscores]]\n",
    "    prs = [n[emo][0] for n in [fold[1] for fold in cvscores]]\n",
    "    spr = [n[emo][0] for n in [fold[2] for fold in cvscores]]\n",
    "\n",
    "    print(\"[%8s]\\t%.2f\\t%.2f\\t%.2f\\t%.2f\\t%.2f\\t%.2f\" % (emoNames[emo],\n",
    "                                 np.mean(r2), np.std(r2)/np.sqrt(n_splits),\n",
    "                                 np.mean(prs), np.std(prs)/np.sqrt(n_splits),\n",
    "                                 np.mean(spr), np.std(spr)/np.sqrt(n_splits)\n",
    "                                          ))    \n",
    "    "
   ]
  },
  {
   "cell_type": "raw",
   "metadata": {},
   "source": [
    "\t\tR2\tsd\tpearson\tsd\tspearman\n",
    "[confident]\t-0.60\t0.10\t0.46\t0.01\t0.44\t0.01\n",
    "[ excited]\t-0.47\t0.03\t0.56\t0.01\t0.55\t0.01\n",
    "[   happy]\t-0.10\t0.02\t0.63\t0.01\t0.63\t0.01\n",
    "[surprised]\t-1.60\t0.09\t0.24\t0.01\t0.24\t0.01\n",
    "\n",
    "\tR2\tsd\tpearson\tsd\tspearman\n",
    "[confident]\t-0.62\t0.09\t0.44\t0.02\t0.43\t0.01\n",
    "[ excited]\t-0.65\t0.04\t0.52\t0.01\t0.52\t0.00\n",
    "[   happy]\t-0.14\t0.05\t0.62\t0.02\t0.62\t0.02\n",
    "[surprised]\t-1.68\t0.09\t0.29\t0.01\t0.28\t0.02"
   ]
  },
  {
   "cell_type": "code",
   "execution_count": 176,
   "metadata": {
    "collapsed": false
   },
   "outputs": [
    {
     "data": {
      "text/plain": [
       "False"
      ]
     },
     "execution_count": 176,
     "metadata": {},
     "output_type": "execute_result"
    }
   ],
   "source": [
    "p._pool[0].is_alive()"
   ]
  },
  {
   "cell_type": "markdown",
   "metadata": {},
   "source": [
    "## Training"
   ]
  },
  {
   "cell_type": "markdown",
   "metadata": {},
   "source": [
    "### Train / test split"
   ]
  },
  {
   "cell_type": "code",
   "execution_count": 336,
   "metadata": {
    "collapsed": false
   },
   "outputs": [
    {
     "name": "stdout",
     "output_type": "stream",
     "text": [
      "shapes of training data and label tensors: (1615, 65) (1615, 4)\n",
      "shapes of testing data and label tensors: (404, 65) (404, 4)\n"
     ]
    }
   ],
   "source": [
    "from sklearn.cross_validation import train_test_split\n",
    "\n",
    "X_train, X_test, y_train, y_test = train_test_split(X, y, test_size=0.2, random_state=0)\n",
    "\n",
    "print('shapes of training data and label tensors:', X_train.shape, y_train.shape)\n",
    "print('shapes of testing data and label tensors:', X_test.shape, y_test.shape)"
   ]
  },
  {
   "cell_type": "code",
   "execution_count": 21,
   "metadata": {
    "collapsed": false,
    "scrolled": true
   },
   "outputs": [],
   "source": [
    "# set(y for y in y_train.flat)"
   ]
  },
  {
   "cell_type": "code",
   "execution_count": 26,
   "metadata": {
    "collapsed": false
   },
   "outputs": [],
   "source": [
    "# kfold = StratifiedKFold(n_folds=5, shuffle=True, random_state=seed,y=y)"
   ]
  },
  {
   "cell_type": "markdown",
   "metadata": {},
   "source": [
    "#### Custom Metrics"
   ]
  },
  {
   "cell_type": "code",
   "execution_count": 337,
   "metadata": {
    "collapsed": true
   },
   "outputs": [],
   "source": [
    "import keras.backend as K\n",
    "\n",
    "def matthews_correlation(y_true, y_pred):\n",
    "    y_pred_pos = K.round(K.clip(y_pred, 0, 1))\n",
    "    y_pred_neg = 1 - y_pred_pos\n",
    "\n",
    "    y_pos = K.round(K.clip(y_true, 0, 1))\n",
    "    y_neg = 1 - y_pos\n",
    "\n",
    "    tp = K.sum(y_pos * y_pred_pos)\n",
    "    tn = K.sum(y_neg * y_pred_neg)\n",
    "\n",
    "    fp = K.sum(y_neg * y_pred_pos)\n",
    "    fn = K.sum(y_pos * y_pred_neg)\n",
    "\n",
    "    numerator = (tp * tn - fp * fn)\n",
    "    denominator = K.sqrt((tp + fp) * (tp + fn) * (tn + fp) * (tn + fn))\n",
    "\n",
    "    return numerator / (denominator + K.epsilon())"
   ]
  },
  {
   "cell_type": "raw",
   "metadata": {},
   "source": [
    "   activations = ['elu','softplus','softsign','relu','tanh','sigmoid','hard_sigmoid','linear','softmax']\n",
    "        losses = ['mse','mae']\n",
    "    optimizers = ['sgd', 'rmsprop', 'adagrad', 'adadelta', 'adam', 'nadam']"
   ]
  },
  {
   "cell_type": "code",
   "execution_count": 338,
   "metadata": {
    "collapsed": false
   },
   "outputs": [],
   "source": [
    "hidden_dims1 = 50\n",
    "hidden_dims2 = 25\n",
    "hidden_dims3 = 4\n",
    "\n",
    "model = Sequential()\n",
    "model.add(Embedding(len(Indices)+1,  EMBEDDINGS_DIM, weights=[embedding_matrix],\n",
    "                            input_length=maxlen, trainable=False))\n",
    "model.add(Bidirectional(LSTM(EMBEDDINGS_DIM))) #dropout is same as regularisation\n",
    "\n",
    "model.add(Dropout(0.2))\n",
    "model.add(Dense(hidden_dims1, b_regularizer=l2(0.01)),)\n",
    "model.add(Dense(hidden_dims2, b_regularizer=l2(0.01)), ) \n",
    "model.add(Dense(hidden_dims3, activation='softsign'))\n",
    "\n",
    "model.compile(loss='mean_absolute_error', optimizer='adam',metrics=['accuracy',matthews_correlation])"
   ]
  },
  {
   "cell_type": "code",
   "execution_count": 339,
   "metadata": {
    "collapsed": false,
    "scrolled": true
   },
   "outputs": [
    {
     "name": "stdout",
     "output_type": "stream",
     "text": [
      "Epoch 1/20\n",
      "2019/2019 [==============================] - 21s - loss: 0.1428 - acc: 0.4210 - matthews_correlation: 0.2000    \n",
      "Epoch 2/20\n",
      "2019/2019 [==============================] - 20s - loss: 0.1125 - acc: 0.4631 - matthews_correlation: 0.3472    \n",
      "Epoch 3/20\n",
      "2019/2019 [==============================] - 20s - loss: 0.1072 - acc: 0.4715 - matthews_correlation: 0.3852    \n",
      "Epoch 4/20\n",
      "2019/2019 [==============================] - 20s - loss: 0.1011 - acc: 0.5057 - matthews_correlation: 0.4427    \n",
      "Epoch 5/20\n",
      "2019/2019 [==============================] - 20s - loss: 0.0968 - acc: 0.4943 - matthews_correlation: 0.4517    \n",
      "Epoch 6/20\n",
      "2019/2019 [==============================] - 20s - loss: 0.0961 - acc: 0.5097 - matthews_correlation: 0.4445    \n",
      "Epoch 7/20\n",
      "2019/2019 [==============================] - 20s - loss: 0.0930 - acc: 0.5324 - matthews_correlation: 0.4795    \n",
      "Epoch 8/20\n",
      "2019/2019 [==============================] - 20s - loss: 0.0897 - acc: 0.5379 - matthews_correlation: 0.4953    \n",
      "Epoch 9/20\n",
      "2019/2019 [==============================] - 20s - loss: 0.0898 - acc: 0.5364 - matthews_correlation: 0.4915    \n",
      "Epoch 10/20\n",
      "2019/2019 [==============================] - 20s - loss: 0.0863 - acc: 0.5632 - matthews_correlation: 0.5215    \n",
      "Epoch 11/20\n",
      "2019/2019 [==============================] - 19s - loss: 0.0851 - acc: 0.5681 - matthews_correlation: 0.5196    \n",
      "Epoch 12/20\n",
      "2019/2019 [==============================] - 19s - loss: 0.0824 - acc: 0.5750 - matthews_correlation: 0.5518    \n",
      "Epoch 13/20\n",
      "2019/2019 [==============================] - 19s - loss: 0.0812 - acc: 0.5765 - matthews_correlation: 0.5500    \n",
      "Epoch 14/20\n",
      "2019/2019 [==============================] - 20s - loss: 0.0794 - acc: 0.5721 - matthews_correlation: 0.5466    \n",
      "Epoch 15/20\n",
      "2019/2019 [==============================] - 19s - loss: 0.0789 - acc: 0.5849 - matthews_correlation: 0.5683    \n",
      "Epoch 16/20\n",
      "2019/2019 [==============================] - 20s - loss: 0.0776 - acc: 0.5785 - matthews_correlation: 0.5768    \n",
      "Epoch 17/20\n",
      "2019/2019 [==============================] - 20s - loss: 0.0763 - acc: 0.5889 - matthews_correlation: 0.5701    \n",
      "Epoch 18/20\n",
      "2019/2019 [==============================] - 20s - loss: 0.0752 - acc: 0.5884 - matthews_correlation: 0.5849    \n",
      "Epoch 19/20\n",
      "2019/2019 [==============================] - 20s - loss: 0.0725 - acc: 0.5884 - matthews_correlation: 0.6061    \n",
      "Epoch 20/20\n",
      "2019/2019 [==============================] - 20s - loss: 0.0732 - acc: 0.5874 - matthews_correlation: 0.6050    \n"
     ]
    },
    {
     "data": {
      "text/plain": [
       "<keras.callbacks.History at 0x7fa71c40a978>"
      ]
     },
     "execution_count": 339,
     "metadata": {},
     "output_type": "execute_result"
    }
   ],
   "source": [
    "nb_epoch = 20\n",
    "model.fit(X, y, batch_size=batch_size, nb_epoch=nb_epoch, validation_split=None)"
   ]
  },
  {
   "cell_type": "code",
   "execution_count": 325,
   "metadata": {
    "collapsed": false
   },
   "outputs": [
    {
     "name": "stdout",
     "output_type": "stream",
     "text": [
      "\t\tR2\tpearson\tspearman\n",
      "       0\t-3.19\t0.02\t0.01\n",
      "Epoch 1/1\n",
      "1413/1413 [==============================] - 14s - loss: 0.4674 - acc: 0.4529 - matthews_correlation: 0.2539    \n",
      "       1\t-1.39\t0.56\t0.50\n",
      "Epoch 1/1\n",
      "1413/1413 [==============================] - 14s - loss: 0.4290 - acc: 0.4883 - matthews_correlation: 0.3599    \n",
      "       2\t-1.05\t0.57\t0.50\n",
      "Epoch 1/1\n",
      "1413/1413 [==============================] - 13s - loss: 0.4050 - acc: 0.4890 - matthews_correlation: 0.4193    \n",
      "       3\t-1.05\t0.59\t0.52\n",
      "Epoch 1/1\n",
      "1413/1413 [==============================] - 14s - loss: 0.3923 - acc: 0.4862 - matthews_correlation: 0.4674    \n",
      "       4\t-0.92\t0.59\t0.52\n",
      "Epoch 1/1\n",
      "1413/1413 [==============================] - 14s - loss: 0.3811 - acc: 0.5053 - matthews_correlation: 0.4823    \n",
      "       5\t-0.71\t0.59\t0.53\n",
      "Epoch 1/1\n",
      "1413/1413 [==============================] - 14s - loss: 0.3751 - acc: 0.5159 - matthews_correlation: 0.5019    \n",
      "       6\t-0.66\t0.60\t0.54\n",
      "Epoch 1/1\n",
      "1413/1413 [==============================] - 14s - loss: 0.3594 - acc: 0.5074 - matthews_correlation: 0.5338    \n",
      "       7\t-0.91\t0.62\t0.53\n",
      "Epoch 1/1\n",
      "1413/1413 [==============================] - 13s - loss: 0.3549 - acc: 0.5308 - matthews_correlation: 0.5395    \n",
      "       8\t-0.87\t0.60\t0.53\n",
      "Epoch 1/1\n",
      "1413/1413 [==============================] - 14s - loss: 0.3462 - acc: 0.5506 - matthews_correlation: 0.5621    \n",
      "       9\t-0.86\t0.62\t0.55\n",
      "Epoch 1/1\n",
      "1413/1413 [==============================] - 14s - loss: 0.3393 - acc: 0.5322 - matthews_correlation: 0.5777    \n",
      "      10\t-0.97\t0.61\t0.53\n",
      "Epoch 1/1\n",
      "1413/1413 [==============================] - 13s - loss: 0.3302 - acc: 0.5350 - matthews_correlation: 0.5844    \n",
      "      11\t-0.95\t0.59\t0.52\n",
      "Epoch 1/1\n",
      "1413/1413 [==============================] - 14s - loss: 0.3240 - acc: 0.5499 - matthews_correlation: 0.6001    \n",
      "      12\t-0.85\t0.60\t0.54\n",
      "Epoch 1/1\n",
      "1413/1413 [==============================] - 13s - loss: 0.3213 - acc: 0.5506 - matthews_correlation: 0.5933    \n",
      "      13\t-0.80\t0.59\t0.53\n",
      "Epoch 1/1\n",
      "1413/1413 [==============================] - 13s - loss: 0.3170 - acc: 0.5471 - matthews_correlation: 0.5945    \n",
      "      14\t-0.97\t0.61\t0.54\n",
      "Epoch 1/1\n",
      "1413/1413 [==============================] - 13s - loss: 0.3055 - acc: 0.5704 - matthews_correlation: 0.6265    \n",
      "      15\t-0.81\t0.60\t0.55\n",
      "Epoch 1/1\n",
      "1413/1413 [==============================] - 13s - loss: 0.3011 - acc: 0.5648 - matthews_correlation: 0.6319    \n",
      "      16\t-0.87\t0.58\t0.52\n",
      "Epoch 1/1\n",
      "1413/1413 [==============================] - 14s - loss: 0.2980 - acc: 0.5740 - matthews_correlation: 0.6389    \n",
      "      17\t-0.88\t0.59\t0.53\n",
      "Epoch 1/1\n",
      "1413/1413 [==============================] - 14s - loss: 0.2899 - acc: 0.5563 - matthews_correlation: 0.6577    \n",
      "      18\t-0.93\t0.60\t0.55\n",
      "Epoch 1/1\n",
      "1413/1413 [==============================] - 13s - loss: 0.2842 - acc: 0.5718 - matthews_correlation: 0.6652    \n",
      "      19\t-0.89\t0.61\t0.54\n"
     ]
    }
   ],
   "source": [
    "from sklearn.metrics import r2_score, f1_score, classification_report\n",
    "# from skll.metrics import pearson, spearman\n",
    "from scipy.stats import pearsonr, spearmanr\n",
    "\n",
    "\n",
    "print('\\t\\tR2\\tpearson\\tspearman')\n",
    "y_test_predicts = []\n",
    "for i in range(20):\n",
    "    if i>0: \n",
    "        model.fit(X_train, y_train, batch_size=batch_size, nb_epoch=1,validation_split=None,)\n",
    "#         model.fit(X, y, batch_size=batch_size, nb_epoch=1, validation_split=None)\n",
    "    y_test_pred = np.array( model.predict(X_test))\n",
    "    print(\"%8s\\t%.2f\\t%.2f\\t%.2f\" % (i,\n",
    "                                 np.mean([r2_score(y1,y2)for y1,y2 in zip(y_test, y_test_pred)]) ,                                 \n",
    "                                 np.mean([pearsonr(y1,y2)[0]  for y1,y2 in zip(y_test, y_test_pred)]) ,\n",
    "                                 np.mean([spearmanr(y1,y2)[0]  for y1,y2 in zip(y_test, y_test_pred)])\n",
    "                                    ))    \n",
    "    y_test_predicts.append(y_test_pred)\n",
    "\n",
    "\n",
    "# model.fit(X_train, y_train, batch_size=batch_size, nb_epoch=nb_epoch,validation_split=None,)"
   ]
  },
  {
   "cell_type": "code",
   "execution_count": 2,
   "metadata": {
    "collapsed": false
   },
   "outputs": [],
   "source": [
    "print('[%8s]\\tR2\\tpearson\\tspearman' % emoNames[EMOTION])\n",
    "for i,y__ in enumerate(y_test_predicts): \n",
    "#         print(\"%8s\\t%.2f\\t%.2f\\t%.2f\" % (i,\n",
    "#                                  r2_score(y_dev , y_test_predict),                                 \n",
    "#                                  pearsonr(y_dev , y_test_predict)[0],\n",
    "#                                  spearmanr(y_dev , y_test_predict)[0]))\n",
    "        print(\"%8s\\t%.2f\\t%.2f\\t%.2f\" % (i,\n",
    "                                 np.mean([r2_score(y1,y2)for y1,y2 in zip(y_test, y__)]) ,                                 \n",
    "                                 np.mean([pearsonr(y1,y2)[0]  for y1,y2 in zip(y_test, y__)]) ,\n",
    "                                 np.mean([spearmanr(y1,y2)[0]  for y1,y2 in zip(y_test, y__)])))"
   ]
  },
  {
   "cell_type": "code",
   "execution_count": 350,
   "metadata": {
    "collapsed": false
   },
   "outputs": [
    {
     "name": "stdout",
     "output_type": "stream",
     "text": [
      "[confident]\t0.96\n",
      "[  excited]\t0.94\n",
      "[    happy]\t0.96\n",
      "[surprised]\t0.93\n"
     ]
    }
   ],
   "source": [
    "from sklearn.metrics import r2_score, f1_score, classification_report\n",
    "\n",
    "y_test_predict = model.predict(X_test)\n",
    "   \n",
    "for i in [0,1,2,3]:\n",
    "    print(\"[%9s]\\t%.2f\" % (emoNames[i],\n",
    "                           r2_score(\n",
    "                                y_test[: , i], \n",
    "                                y_test_predict[: , i]\n",
    "                                )))"
   ]
  },
  {
   "cell_type": "code",
   "execution_count": 349,
   "metadata": {
    "collapsed": false
   },
   "outputs": [
    {
     "name": "stdout",
     "output_type": "stream",
     "text": [
      "Populating the interactive namespace from numpy and matplotlib\n"
     ]
    },
    {
     "data": {
      "image/png": "[encoded data removed]",
      "text/plain": [
       "<matplotlib.figure.Figure at 0x7fa7738f9ac8>"
      ]
     },
     "metadata": {},
     "output_type": "display_data"
    }
   ],
   "source": [
    "%pylab inline\n",
    "import numpy as np\n",
    "import matplotlib.pyplot as plt\n",
    "import natsort\n",
    "\n",
    "dimension = 0\n",
    "\n",
    "s = y_test[:, dimension] #y_annotated[dimension]\n",
    "order = sorted(range(len(s)), key=lambda k: s[k])\n",
    "\n",
    "g1 = y_test[:, dimension]\n",
    "g2 = y_test_predict[:, dimension]   \n",
    "\n",
    "#--------------          ----SCALING----\n",
    "line_1, = plt.plot(np.array(g2)[order], 'g.', label='Prediction')\n",
    "line_0, = plt.plot(np.array(g1)[order], 'r.',  label='Actual')\n",
    "\n",
    "plt.grid(True)\n",
    "plt.legend(handles=[line_0, line_1])\n",
    "plt.legend(bbox_to_anchor=(1.02, .4, .65, .0), loc=3,ncol=1, mode=\"expand\", borderaxespad=1.0)\n",
    "plt.ylabel('dimension: '+emoNames[dimension])\n",
    "plt.xlabel('tweets')\n",
    "plt.title(\"Models Evaluation on 5point corpus\")\n",
    "plt.show()"
   ]
  },
  {
   "cell_type": "markdown",
   "metadata": {},
   "source": [
    "### Save Model and Weights"
   ]
  },
  {
   "cell_type": "code",
   "execution_count": 351,
   "metadata": {
    "collapsed": false
   },
   "outputs": [
    {
     "name": "stdout",
     "output_type": "stream",
     "text": [
      "</home/vlaand/IpythonNotebooks/senpy-plugins-development/fivePointRegression/classifiers/LSTM/fivePointRegression.json> \n",
      "</home/vlaand/IpythonNotebooks/senpy-plugins-development/fivePointRegression/classifiers/LSTM/fivePointRegression.h5> \n",
      "</home/vlaand/IpythonNotebooks/cf-5point-data/classifiers/LSTM/fivePointRegression.json> \n",
      "</home/vlaand/IpythonNotebooks/cf-5point-data/classifiers/LSTM/fivePointRegression.h5> \n"
     ]
    }
   ],
   "source": [
    "def _save_model_wassa(model, savePath, emo, modelName):\n",
    "    if emo == None:\n",
    "        savePath = os.path.join(savePath,modelName)\n",
    "    else:\n",
    "        savePath = savePath+\".\"+emo\n",
    "        \n",
    "    model_json = model.to_json()\n",
    "    with open(savePath + \".json\", \"w\") as json_file:\n",
    "        json_file.write(model_json)\n",
    "        print(\"<%s.json> \" % (savePath))\n",
    "        \n",
    "    model.save_weights(savePath +\".h5\", overwrite=True)\n",
    "    print(\"<%s.h5> \" % (savePath))\n",
    "    \n",
    "#     model.save(savePath + \"_.h5\")\n",
    "#     print(\"<\"+savePath + \"_.h5>\")\n",
    "    \n",
    "savePath = \"/home/vlaand/IpythonNotebooks/senpy-plugins-development/fivePointRegression/classifiers/LSTM/\"\n",
    "\n",
    "\n",
    "_save_model_wassa(model=model, savePath=savePath, emo=None, modelName=\"fivePointRegression\")\n",
    "_save_model_wassa(model=model, savePath='/home/vlaand/IpythonNotebooks/cf-5point-data/classifiers/LSTM', emo=None, modelName=\"fivePointRegression\")"
   ]
  },
  {
   "cell_type": "markdown",
   "metadata": {},
   "source": [
    "#### Load"
   ]
  },
  {
   "cell_type": "code",
   "execution_count": null,
   "metadata": {
    "collapsed": true
   },
   "outputs": [],
   "source": [
    "with open('model_fivePointRegression.json', 'r') as json_file:\n",
    "    loaded_model_json = json_file.read()\n",
    "    \n",
    "loaded_model = model_from_json(loaded_model_json)\n",
    "\n",
    "# load weights into new model\n",
    "loaded_model.load_weights(\"model_fivePointRegression.h5\")\n",
    "# print(\"Loaded model from disk\")"
   ]
  }
 ],
 "metadata": {
  "anaconda-cloud": {},
  "kernelspec": {
   "display_name": "Python [conda root]",
   "language": "python",
   "name": "conda-root-py"
  },
  "language_info": {
   "codemirror_mode": {
    "name": "ipython",
    "version": 3
   },
   "file_extension": ".py",
   "mimetype": "text/x-python",
   "name": "python",
   "nbconvert_exporter": "python",
   "pygments_lexer": "ipython3",
   "version": "3.5.2"
  }
 },
 "nbformat": 4,
 "nbformat_minor": 0
}
